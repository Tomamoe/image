{
 "cells": [
  {
   "cell_type": "markdown",
   "metadata": {},
   "source": [
    "Сравнить две матрицы со случайными значениями на равенство\n",
    "A = np.random.randint(0,2,5)\n",
    "B = np.random.randint(0,2,5)"
   ]
  },
  {
   "cell_type": "code",
   "execution_count": 1,
   "metadata": {},
   "outputs": [],
   "source": [
    "import numpy as  np"
   ]
  },
  {
   "cell_type": "code",
   "execution_count": 2,
   "metadata": {},
   "outputs": [
    {
     "name": "stdout",
     "output_type": "stream",
     "text": [
      "Matrix A:\n",
      " [0 2 2 7 6 7 3 4 3 1]\n",
      "Matrix B:\n",
      " [9 2 4 7 5 6 8 0 0 0]\n",
      "Common elements in Z1 and Z2: [0 2 4 6 7]\n"
     ]
    }
   ],
   "source": [
    "rnd = np.random.default_rng()\n",
    "Z1 = np.random.randint(0, 10, 10)\n",
    "Z2 = np.random.randint(0, 10, 10)\n",
    "\n",
    "print(\"Matrix A:\\n\", Z1)\n",
    "print(\"Matrix B:\\n\",Z2)\n",
    "\n",
    "common_elements = np.intersect1d(Z1, Z2)\n",
    "print(\"Common elements in Z1 and Z2:\", common_elements)"
   ]
  }
 ],
 "metadata": {
  "kernelspec": {
   "display_name": "Python 3 (ipykernel)",
   "language": "python",
   "name": "python3"
  },
  "language_info": {
   "codemirror_mode": {
    "name": "ipython",
    "version": 3
   },
   "file_extension": ".py",
   "mimetype": "text/x-python",
   "name": "python",
   "nbconvert_exporter": "python",
   "pygments_lexer": "ipython3",
   "version": "3.9.13"
  }
 },
 "nbformat": 4,
 "nbformat_minor": 4
}
